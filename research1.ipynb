{
 "cells": [
  {
   "cell_type": "code",
   "execution_count": 2,
   "metadata": {},
   "outputs": [],
   "source": [
    "def calculateError(real, predicted):\n",
    "    correct = 0\n",
    "    for x in range(len(real)):\n",
    "        if real[x] == predicted[x]:\n",
    "            correct += 1\n",
    "    return correct / len(real)"
   ]
  },
  {
   "cell_type": "code",
   "execution_count": 4,
   "metadata": {},
   "outputs": [
    {
     "name": "stdout",
     "output_type": "stream",
     "text": [
      "finished cleaning\n"
     ]
    }
   ],
   "source": [
    "import os\n",
    "import pandas as pd\n",
    "#from https://www.kaggle.com/borismarjanovic/price-volume-data-for-all-us-stocks-etfs removing all stocks with less than 1 year of data\n",
    "filePath = 'price-volume-data-for-all-us-stocks-etfs/Stocks'\n",
    "fileList = os.listdir(filePath)\n",
    "masterDF = pd.DataFrame({'Date': [],\n",
    "                        'Open': [],\n",
    "                        'High': [],\n",
    "                        'Low': [],\n",
    "                        'Close': [],\n",
    "                        'Volume': [],\n",
    "                        'OpenInt': [],\n",
    "                        'ticker': [],\n",
    "                        'fiveDayAverage': [],\n",
    "                        'tenDayAverage': [],\n",
    "                        'fiveDayWeightedAverage': [],\n",
    "                        'tenDayWeightedAverage': [],\n",
    "                        'fiveDaySlopeChange': [],\n",
    "                        'tenDaySlopeChange': [],\n",
    "                        'tmmrwChngAsPerc': [],\n",
    "                        'zScoreOfChange': [],\n",
    "                        'percentChangeInFiveDays': []},\n",
    "                  index=[])   \n",
    "for file in fileList:\n",
    "    try:\n",
    "        df = pd.read_csv(filePath + '/' + file, parse_dates = True)\n",
    "        tickerSymbol = file.split('.txt')[0]\n",
    "        rowCount = df.shape[0]\n",
    "        df = df.assign(ticker = [tickerSymbol]* df.shape[0], fiveDayAverage = [0.0]* rowCount, tenDayAverage = [0.0]* rowCount,\n",
    "                       fiveDayWeightedAverage = [0.0]* rowCount, tenDayWeightedAverage = [0.0]* rowCount,fiveDaySlopeChange = [0.0]* rowCount,\n",
    "                       tenDaySlopeChange = [0.0]* rowCount,tmmrwChngAsPerc = [0.0]* rowCount,zScoreOfChange = [0.0]*rowCount,\n",
    "                       percentChangeInFiveDays = [0.0]* rowCount)\n",
    "        #df['ticker'] = [ticker] * df.shape[0]\n",
    "        df['fiveDayAverage'] = ((df['Close'] + df['Close'].shift(1) + df['Close'].shift(2) + df['Close'].shift(3) + df['Close'].shift(4)).div(5))\n",
    "        df['tenDayAverage'] = ((df['Close'] + df['Close'].shift(1) + df['Close'].shift(2) + df['Close'].shift(3) + df['Close'].shift(4) + \n",
    "                               (df['Close'].shift(5) + df['Close'].shift(6) + df['Close'].shift(7) + df['Close'].shift(8) + df['Close'].shift(9)).div(10)))\n",
    "        df['fiveDayWeightedAverage'] = (((df['Close']*5) + (df['Close'].shift(1) * 4) + (df['Close'].shift(2) * 3) + \n",
    "                                         (df['Close'].shift(3) * 2) + (df['Close'].shift(4))).div(15))\n",
    "        df['tenDayWeightedAverage'] = (((df['Close']*10) + (df['Close'].shift(1) * 9) + (df['Close'].shift(2) * 8) + \n",
    "                                         (df['Close'].shift(3) * 7) + (df['Close'].shift(4) * 6) + (df['Close'].shift(5) * 5)+\n",
    "                                         (df['Close'].shift(7) * 3)+ (df['Close'].shift(8) * 2) + (df['Close'].shift(9))).div(55))\n",
    "        df['fiveDaySlopeChange'] = ((df['Close']  - df['Open'].shift(4)).div(5))\n",
    "        df['tenDaySlopeChange'] = ((df['Close']  - df['Open'].shift(9)).div(10))        \n",
    "        df['tmmrwChngAsPerc'] = ((df['Close'].shift(-1) - df['Open'].shift(-1)).div(df['Open'].shift(-1)))\n",
    "        stdDevOfChangePercent = pd.Series.std(df['tmmrwChngAsPerc'])\n",
    "        meanOfChangePercent = pd.Series.mean(df['tmmrwChngAsPerc'])\n",
    "        df['zScoreOfChange'] = (df['tmmrwChngAsPerc'] - meanOfChangePercent).div(stdDevOfChangePercent)\n",
    "        df['percentChangeInFiveDays'] = ((df['Close'].shift(-5) - df['Close']).div(df['Close']))\n",
    "        df = df.dropna()\n",
    "        masterDF = pd.concat([masterDF, df])\n",
    "    except:\n",
    "        print(\"error for: \", file)\n",
    "# for file in fileList:\n",
    "#     try:\n",
    "#         df = pd.read_csv(filePath + '/' + file, parse_dates = True)\n",
    "#         ticker = file.split('.txt')[0]\n",
    "#         df['ticker'] = [ticker] * df.shape[0]\n",
    "#         df['fiveDayAverage'] = ((df['Close'] + df['Close'].shift(1) + df['Close'].shift(2) + df['Close'].shift(3) + df['Close'].shift(4)).div(5))\n",
    "#         df['tenDayAverage'] = ((df['Close'] + df['Close'].shift(1) + df['Close'].shift(2) + df['Close'].shift(3) + df['Close'].shift(4) + \n",
    "#                                (df['Close'].shift(5) + df['Close'].shift(6) + df['Close'].shift(7) + df['Close'].shift(8) + df['Close'].shift(9)).div(10)))\n",
    "#         df['fiveDayWeightedAverage'] = (((df['Close']*5) + (df['Close'].shift(1) * 4) + (df['Close'].shift(2) * 3) + \n",
    "#                                          (df['Close'].shift(3) * 2) + (df['Close'].shift(4))).div(15))\n",
    "#         df['tenDayWeightedAverage'] = (((df['Close']*10) + (df['Close'].shift(1) * 9) + (df['Close'].shift(2) * 8) + \n",
    "#                                          (df['Close'].shift(3) * 7) + (df['Close'].shift(4) * 6) + (df['Close'].shift(5) * 5)+\n",
    "#                                          (df['Close'].shift(7) * 3)+ (df['Close'].shift(8) * 2) + (df['Close'].shift(9))).div(55))\n",
    "#         df['fiveDaySlopeChange'] = ((df['Close']  - df['Open'].shift(4)).div(5))\n",
    "#         df['tenDaySlopeChange'] = ((df['Close']  - df['Open'].shift(9)).div(10))        \n",
    "#         df['tmmrwChngAsPerc'] = ((df['Close'].shift(-1) - df['Open'].shift(-1)).div(df['Open'].shift(-1)))\n",
    "#         stdDevOfChangePercent = pd.Series.std(df['tmmrwChngAsPerc'])\n",
    "#         meanOfChangePercent = pd.Series.mean(df['tmmrwChngAsPerc'])\n",
    "#         df['zScoreOfChange'] = (df['tmmrwChngAsPerc'] - meanOfChangePercent).div(stdDevOfChangePercent)\n",
    "#         df['percentChangeInFiveDays'] = ((df['Close'].shift(-5) - df['Close']).div(df['Close']))\n",
    "#         df = df.dropna()\n",
    "#         masterDF = pd.concat([masterDF, df])\n",
    "#     except:\n",
    "#         print(\"error for: \", file)\n",
    "print('finished cleaning')\n",
    "masterDF.to_csv('masterDF.csv', index=False) "
   ]
  },
  {
   "cell_type": "code",
   "execution_count": 1,
   "metadata": {},
   "outputs": [
    {
     "name": "stderr",
     "output_type": "stream",
     "text": [
      "c:\\users\\kazuya\\appdata\\local\\programs\\python\\python38\\lib\\site-packages\\sklearn\\externals\\joblib\\__init__.py:15: FutureWarning: sklearn.externals.joblib is deprecated in 0.21 and will be removed in 0.23. Please import this functionality directly from joblib, which can be installed with: pip install joblib. If this warning is raised when loading pickled models, you may need to re-serialize those models with scikit-learn 0.21+.\n",
      "  warnings.warn(msg, category=FutureWarning)\n"
     ]
    },
    {
     "ename": "NameError",
     "evalue": "name 'pd' is not defined",
     "output_type": "error",
     "traceback": [
      "\u001b[1;31m---------------------------------------------------------------------------\u001b[0m",
      "\u001b[1;31mNameError\u001b[0m                                 Traceback (most recent call last)",
      "\u001b[1;32m<ipython-input-1-97a4060791c4>\u001b[0m in \u001b[0;36m<module>\u001b[1;34m\u001b[0m\n\u001b[0;32m      4\u001b[0m \u001b[1;32mfrom\u001b[0m \u001b[0msklearn\u001b[0m\u001b[1;33m.\u001b[0m\u001b[0mmodel_selection\u001b[0m \u001b[1;32mimport\u001b[0m \u001b[0mtrain_test_split\u001b[0m\u001b[1;33m\u001b[0m\u001b[1;33m\u001b[0m\u001b[0m\n\u001b[0;32m      5\u001b[0m \u001b[1;33m\u001b[0m\u001b[0m\n\u001b[1;32m----> 6\u001b[1;33m \u001b[0mmasterDF\u001b[0m \u001b[1;33m=\u001b[0m \u001b[0mpd\u001b[0m\u001b[1;33m.\u001b[0m\u001b[0mread_csv\u001b[0m\u001b[1;33m(\u001b[0m\u001b[1;34m'masterDF.csv'\u001b[0m\u001b[1;33m,\u001b[0m \u001b[0mparse_dates\u001b[0m \u001b[1;33m=\u001b[0m \u001b[1;32mTrue\u001b[0m\u001b[1;33m)\u001b[0m\u001b[1;33m\u001b[0m\u001b[1;33m\u001b[0m\u001b[0m\n\u001b[0m\u001b[0;32m      7\u001b[0m \u001b[0mzScoreAnswer\u001b[0m \u001b[1;33m=\u001b[0m \u001b[0mmasterDF\u001b[0m\u001b[1;33m[\u001b[0m\u001b[1;34m'zScoreOfChange'\u001b[0m\u001b[1;33m]\u001b[0m\u001b[1;33m\u001b[0m\u001b[1;33m\u001b[0m\u001b[0m\n\u001b[0;32m      8\u001b[0m \u001b[0mzScoreAnswer\u001b[0m \u001b[1;33m=\u001b[0m \u001b[1;33m[\u001b[0m\u001b[1;34m'long'\u001b[0m \u001b[1;32mif\u001b[0m \u001b[0mx\u001b[0m \u001b[1;33m>\u001b[0m \u001b[1;36m.5\u001b[0m \u001b[1;32melse\u001b[0m \u001b[1;34m'short'\u001b[0m \u001b[1;32mif\u001b[0m \u001b[0mx\u001b[0m \u001b[1;33m<\u001b[0m \u001b[1;33m-\u001b[0m\u001b[1;36m.7\u001b[0m \u001b[1;32melse\u001b[0m \u001b[1;34m'hold'\u001b[0m \u001b[1;32mfor\u001b[0m \u001b[0mx\u001b[0m \u001b[1;32min\u001b[0m \u001b[0mzScoreAnswer\u001b[0m \u001b[1;33m]\u001b[0m\u001b[1;33m\u001b[0m\u001b[1;33m\u001b[0m\u001b[0m\n",
      "\u001b[1;31mNameError\u001b[0m: name 'pd' is not defined"
     ]
    }
   ],
   "source": [
    "import numpy as np\n",
    "from sklearn.ensemble import RandomForestClassifier\n",
    "from sklearn.model_selection import train_test_split\n",
    "import os\n",
    "import pandas as pd\n",
    "import pickle\n",
    "\n",
    "masterDF = pd.read_csv('masterDF.csv', parse_dates = True)\n",
    "zScoreAnswer = masterDF['zScoreOfChange']\n",
    "zScoreAnswer = ['long' if x > .5 else 'short' if x < -.7 else 'hold' for x in zScoreAnswer ]\n",
    "fiveDayChangeAnswer = masterDF['percentChangeInFiveDays']\n",
    "fiveDayChangeAnswer = ['long' if x > .05 else 'short' if x < -.1 else 'hold' for x in zScoreAnswer ]\n",
    "\n",
    "masterDF = masterDF.drop(columns=['Date','zScoreOfChange','percentChangeInFiveDays'])\n",
    "masterList = masterDF.values.to_list()\n",
    "masterTrainList, masterTestList, zScoreTrainList, zScoreTestList, fiveDayChangeTrainList, fiveDayChangeTestList = train_test_split(\n",
    "    masterList,zScoreAnswer,fiveDayChangeAnswer,test_size = .25)\n",
    "\n",
    "\n",
    "zScorePredictor = RandomForestClassifier(min_samples_split = 10)\n",
    "zScorePredictor.fit(masterTrainList, zScoreTrainList)\n",
    "fiveDayChangePredictor = RandomForestClassifier(min_samples_split = 10)\n",
    "fiveDayChangePredictor.fit(masterTrainList, fiveDayChangeTrainList)\n",
    "pickle.dump(zScorePredictor, open('zScorePredictor.pkl', \"wb\"))\n",
    "pickle.dump(fiveDayChangePredictor, open('zScorePredictor.pkl', \"wb\"))\n",
    "print('dumped')\n",
    "zScorePredictions = zScorePredictor.predict(masterTestList)\n",
    "zScorePredictionAccuracy = calculateError(masterTestList,zScorePredictions)\n",
    "print('zScorePredictionAccuracy is : ', zScorePredictionAccuracy , '%')\n",
    "fiveDayPrediction = fiveDayChangePredictor.predict(masterTestList)\n",
    "fiveDayPredictionAccuracy = calculateError(masterTestList,fiveDayPrediction)\n",
    "print('fiveDayPredictionAccuracy is : ', fiveDayPredictionAccuracy , '%')"
   ]
  },
  {
   "cell_type": "code",
   "execution_count": null,
   "metadata": {},
   "outputs": [],
   "source": []
  }
 ],
 "metadata": {
  "kernelspec": {
   "display_name": "Python 3",
   "language": "python",
   "name": "python3"
  },
  "language_info": {
   "codemirror_mode": {
    "name": "ipython",
    "version": 3
   },
   "file_extension": ".py",
   "mimetype": "text/x-python",
   "name": "python",
   "nbconvert_exporter": "python",
   "pygments_lexer": "ipython3",
   "version": "3.8.1"
  }
 },
 "nbformat": 4,
 "nbformat_minor": 4
}
